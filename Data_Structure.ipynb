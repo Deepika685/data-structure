{
  "nbformat": 4,
  "nbformat_minor": 0,
  "metadata": {
    "colab": {
      "provenance": []
    },
    "kernelspec": {
      "name": "python3",
      "display_name": "Python 3"
    },
    "language_info": {
      "name": "python"
    }
  },
  "cells": [
    {
      "cell_type": "markdown",
      "source": [
        "1. What are data structures, and why are they important?\n",
        "   - Data structures are specialized formats for organizing, managing, and storing data efficiently. They define how data is arranged and how operations can be performed on the data. In simple terms, data structures are ways to organize and store data so that they can be accessed and modified efficiently.\n",
        "   - Data structures provide a way to store and organize data in a way that makes it easy to access and manipulate. For example, searching for an element in an unsorted array takes linear time, but in a balanced binary search tree, it can take logarithmic time.\n",
        "   - The choice of data structure can drastically affect the performance of algorithms. For example, inserting or deleting an element in a linked list is more efficient than in an array, and searching in a hash table can be much faster than in an unsorted list.\n",
        "\n",
        "\n",
        "2.  Explain the difference between mutable and immutable data types with examples?\n",
        "   -  Mutable Data Types:\n",
        "A mutable data type is one where the value or contents of the object can be changed after it has been created. In other words, you can modify the object without creating a new object.They are useful when you need to modify the content of a collection in place, without creating new objects each time.\n",
        "   - Immutable Data Types:\n",
        "An immutable data type is one where the value or contents of the object cannot be changed once it has been created. If you try to change the content, a new object is created instead of modifying the existing object.Immutable types are typically used when you want to ensure that an object cannot be changed after it is created. This makes them particularly useful for use cases where objects need to remain constant.\n",
        "\n",
        "3. What are the main differences between lists and tuples in Python?\n",
        "   1. Lists:\n",
        "   -  Can be modified (elements can be added, removed, or changed).Defined using square brackets [].Consumes more memory because of its dynamic nature.\tLists are not hashable and cannot be used as keys in dictionaries or elements in sets.\n",
        "   2. Tuples:\n",
        "   - Cannot be modified after creation (no changes to elements).Defined using parentheses ().Tuples are hashable (if all elements inside the tuple are hashable), so they can be used as dictionary keys or elements in sets.Consumes less memory due to its fixed size and immutability.\n",
        "\n",
        "4. Describe how dictionaries store data?\n",
        "   - A dictionary in Python is a collection of key-value pairs, where each key is unique, and the value associated with the key can be of any data type. Dictionaries are part of Python's built-in data structures, and they allow fast lookups, insertions, and deletions of data based on keys.\n",
        "\n",
        "    - Here's how they work:\n",
        "\n",
        "   1. Hashing:\n",
        "   - Each key in the dictionary is hashed using a hash function. A hash function takes the key and converts it into a fixed-size hash value (often a number).This hash value determines the \"bucket\" or \"slot\" where the corresponding value is stored in memory.\n",
        "\n",
        "   2. Buckets:\n",
        "   - Internally, the dictionary stores values in a series of buckets or slots. Each bucket corresponds to a hash value generated from the key.The key-value pairs are stored in these buckets, allowing for fast retrieval based on the hash value.\n",
        "\n",
        "   3. Handling Collisions:\n",
        "   - Collisions occur when two different keys generate the same hash value. Python's dictionaries handle collisions using open addressing or linked lists.If a collision happens, the dictionary searches for the next available slot to store the new key-value pair.     \n",
        "\n",
        "5. Why might you use a set instead of a list in Python?\n",
        "   - Sets automatically eliminate duplicates, meaning every element in a set is guaranteed to be unique.\n",
        "   - Lists can contain duplicate elements, so if uniqueness is important in your collection, using a set can be an advantage.    \n",
        "   - Sets are optimized for fast membership testing, meaning checking if an item exists in a set is on average O(1) (constant time).\n",
        "   - Lists require O(n) time to check if an item is present, where n is the length of the list, because the list needs to be iterated over to find the element.\n",
        "   - Sets support powerful and efficient set operations, such as union, intersection, and difference, which are common in mathematical and algorithmic contexts.\n",
        "   - Lists do not have built-in methods for set operations and require more complex logic (like loops or list comprehensions) to achieve similar results.\n",
        "\n",
        "6. What is a string in Python, and how is it different from a list?\n",
        "   1. STRING: A string in Python is a sequence of characters, typically used to represent textual data. Strings are immutable, meaning once a string is created, it cannot be modified. You can think of a string as an array of characters (though it behaves differently in some ways).\n",
        "   - Immutable: Strings cannot be changed after they are created. Any operation that modifies a string returns a new string rather than modifying the original string.\n",
        "   - Indexed: Like lists, strings are indexed, meaning each character in the string has a specific position that can be accessed.\n",
        "   - Iterables: You can loop through the characters of a string, much like a list.\n",
        "   - Defined with Quotes: Strings are defined by enclosing characters in either single quotes (') or double quotes (\").\n",
        "   - Supports String Methods: Python strings come with a wide range of methods that allow you to manipulate them (e.g., .lower(), .upper(), .replace(), etc.).\n",
        "\n",
        "   2. LISTS: A list in Python is a sequence of elements, which can be of any data type. Lists are mutable, meaning the elements of a list can be changed, added, or removed after the list is created.\n",
        "   - Mutable: Lists can be modified by adding, removing, or changing elements.\n",
        "   - Indexed: Just like strings, lists are indexed, so each element has a position that can be accessed.\n",
        "   - Can Contain Mixed Data Types: Lists can contain elements of different data types, such as integers, strings, floats, or even other lists.\n",
        "   - Defined with Square Brackets: Lists are defined by enclosing elements in square brackets ([]), with elements separated by commas.\n",
        "   - Supports List Methods: Lists come with a variety of methods that allow you to modify and manipulate them (e.g., .append(), .remove(), .extend(), etc.).\n",
        "\n",
        "7. How do tuples ensure data integrity in Python?\n",
        "   - Immutability is the core feature of tuples that ensures data integrity. Once a tuple is created, its elements cannot be modified. You cannot add, remove, or change individual elements in the tuple after it has been created.\n",
        "   - Tuples are hashable (if all their elements are hashable). This means they can be used as keys in dictionaries or stored in sets. This hashability ensures that tuples can be used as stable keys in data structures like dictionaries, where the integrity of the key is important for consistent data retrieval.\n",
        "\n",
        "8. What is a hash table, and how does it relate to dictionaries in Python?\n",
        "   - A hash table (also known as a hash map) is a data structure that allows you to store key-value pairs, enabling fast access to values based on their keys. Hash tables use a hash function to compute an index (or hash code) that maps each key to a specific location (bucket) in memory. This makes searching, inserting, and deleting items very efficient, typically with O(1) average time complexity, which is constant time.\n",
        "   - When you use a dictionary in Python, the keys are hashed to determine the memory location where the associated value will be stored. Python’s built-in hash() function is used to compute the hash value for the key.\n",
        "   - Each key in a Python dictionary must be unique. Since dictionaries are implemented using hash tables, a hash table will only store a value for each unique key (no duplicates are allowed).\n",
        "\n",
        "9.  Can lists contain different data types in Python?\n",
        "   - Yes, in Python, lists can contain elements of different data types. Unlike some other programming languages, Python lists are heterogeneous, meaning that a single list can store various types of objects, such as integers, strings, floats, booleans, and even other lists or complex objects like dictionaries and tuples.\n",
        "\n",
        "The list my_list contains:\n",
        "\n",
        "An integer (1),\n",
        "\n",
        "A string (\"Hello\"),\n",
        "\n",
        "A float (3.14),\n",
        "\n",
        "A boolean (True),\n",
        "\n",
        "A nested list ([1, 2, 3]), and\n",
        "\n",
        "A dictionary ({\"key\": \"value\"}).\n",
        "\n",
        "10. Explain why strings are immutable in Python?\n",
        "   - Memory management: Immutable objects can be optimized for performance. Since strings are immutable, Python can optimize memory usage by reusing string objects. For example, Python can store one copy of a string and share it across different parts of the program, avoiding duplication. This is particularly useful in scenarios where large numbers of identical strings are used.\n",
        "   - Immutability guarantees that the hash value of a string remains constant over time. If strings were mutable, their hash values could change during the program’s execution, leading to inconsistencies and errors when accessing values in dictionaries or sets.\n",
        "\n",
        "11. What advantages do dictionaries offer over lists for certain tasks?\n",
        "   - Advantage: In dictionaries, you can quickly access values based on a key. The average time complexity for retrieving a value from a dictionary is O(1), meaning it takes constant time to access any element, regardless of the size of the dictionary.\n",
        "\n",
        "Lists: To look up a value in a list, you generally need to search through each element sequentially, which takes O(n) time in the worst case, where n is the size of the list.\n",
        "   - Advantage: Dictionaries store data in key-value pairs, which makes them ideal for representing real-world relationships where each value is associated with a unique key. This provides a natural way to organize and access data.\n",
        "\n",
        "Lists: Lists store data in an ordered sequence of elements and do not provide a direct way to associate keys with values. This means you need to keep track of indices manually if you need to link values together.\n",
        "\n",
        "12. Describe a scenario where using a tuple would be preferable over a list?\n",
        "   - Scenario: Storing Coordinates (Immutable Data)\n",
        "Imagine you're developing a program that tracks geographic coordinates (latitude, longitude) for various locations on a map. Since the coordinates for a location are inherently immutable — meaning that once they are defined, they shouldn't change — a tuple would be preferable over a list in this case.\n",
        "   - Why a Tuple Is Better in This Scenario:\n",
        "   1. Immutability:Geographic coordinates are meant to represent a fixed point in space. Once a coordinate (latitude, longitude) is recorded, you typically don't want to modify it.Using a tuple ensures that the data cannot be changed accidentally. This data integrity is important, especially when working with geographical data or any other data that should remain constant.\n",
        "\n",
        "   2. Efficiency:Since tuples are immutable, they are generally more memory-efficient than lists. They take up less space in memory because Python can optimize their storage.This becomes more significant when dealing with large datasets, such as tracking coordinates for thousands of locations.\n",
        "\n",
        "   3. Hashable:Tuples are hashable, meaning they can be used as keys in dictionaries or added to sets. This is not possible with lists, which are mutable.If you want to store a unique set of coordinates as keys in a dictionary (e.g., to store information about locations) or add them to a set, tuples are the better choice.\n",
        "\n",
        "   4. Safety in Concurrent Programs:If your program is multi-threaded and uses shared data structures, using immutable tuples ensures that multiple threads can access the coordinate data without worrying about unexpected changes.\n",
        "\n",
        "13.  How do sets handle duplicate values in Python?\n",
        "   - In Python, sets automatically eliminate duplicates. This means that when you try to add an element to a set, it will only store the element if it isn't already present in the set. If you attempt to add a duplicate element, the set will ignore it and the size of the set will not change.\n",
        "   - Unique Elements: A set can only contain unique elements. Any attempt to add a duplicate value will have no effect.\n",
        "   - No Ordering: Sets are unordered collections, meaning they do not maintain any specific order of elements. This is different from lists and tuples, which are ordered.\n",
        "   - Efficient Membership Testing: Sets provide fast membership tests to check if an item is in the set, typically operating in O(1) time complexity.\n",
        "\n",
        "14. How does the “in” keyword work differently for lists and dictionaries?\n",
        "   - When you use the in keyword with a list, Python checks if a specific value exists in the list. The operation checks for the presence of the value by iterating over the entire list, and this results in a time complexity of O(n), where n is the number of elements in the list.\n",
        "\n",
        "   - When you use the in keyword with a dictionary, it checks for the presence of a key in the dictionary, not the value. This is because dictionaries are implemented as key-value pairs. The operation checks if the key is in the dictionary's set of keys, which is much more efficient, with a time complexity of O(1) (constant time), thanks to the underlying hash table implementation.\n",
        "\n",
        "15. Can you modify the elements of a tuple? Explain why or why not?\n",
        "   - No, you cannot modify the elements of a tuple in Python because tuples are immutable data structures.You cannot modify, add, or remove individual elements within a tuple after it has been created.The tuple itself is fixed in size and its elements are fixed, making it a read-only structure.   \n",
        "   - Performance: Immutability allows Python to optimize memory usage. Since tuples cannot be changed, Python can store them more efficiently and use certain optimizations.\n",
        "\n",
        "   - Data Integrity: Tuples ensure that their contents remain constant, providing data integrity. This is useful in scenarios where you want to ensure that the data does not accidentally get modified (e.g., coordinates, RGB values, or other constant data).\n",
        "\n",
        "   - Hashable: Because tuples are immutable, they can be used as keys in dictionaries or added to sets. This is not possible with lists because lists are mutable.\n",
        "\n",
        "16. What is a nested dictionary, and give an example of its use case?\n",
        "   - A nested dictionary in Python is simply a dictionary where the values themselves are dictionaries. It allows you to store data in a hierarchical, key-value structure, where the value for a given key can itself be another dictionary.\n",
        "\n",
        "   - Use Case:\n",
        "     A nested dictionary is useful when you need to represent data that has a hierarchical or multi-level structure. For example, if you're building a system to track employees in a company, and each employee has multiple attributes (such as name, age, department, etc.), a nested dictionary can help organize this data efficiently.   \n"
      ],
      "metadata": {
        "id": "WyOjCgHavj_S"
      }
    },
    {
      "cell_type": "code",
      "source": [
        "# A nested dictionary representing employees in a company\n",
        "company = {\n",
        "    \"emp1\": {\"name\": \"John\", \"age\": 30, \"department\": \"HR\"},\n",
        "    \"emp2\": {\"name\": \"Alice\", \"age\": 28, \"department\": \"Engineering\"},\n",
        "    \"emp3\": {\"name\": \"Bob\", \"age\": 35, \"department\": \"Marketing\"}\n",
        "}\n",
        "\n",
        "# Accessing the data\n",
        "print(company[\"emp1\"][\"name\"])  # Output: John\n",
        "print(company[\"emp2\"][\"department\"])  # Output: Engineering\n",
        "\n",
        "# Updating a value in a nested dictionary\n",
        "company[\"emp3\"][\"age\"] = 36\n",
        "\n",
        "# Adding a new employee\n",
        "company[\"emp4\"] = {\"name\": \"Sarah\", \"age\": 25, \"department\": \"Sales\"}\n",
        "\n",
        "# Printing the updated dictionary\n",
        "print(company)\n"
      ],
      "metadata": {
        "colab": {
          "base_uri": "https://localhost:8080/"
        },
        "id": "EX_fN9-H16ZJ",
        "outputId": "88d98958-6cbc-45af-9453-b69a7cb86436"
      },
      "execution_count": 1,
      "outputs": [
        {
          "output_type": "stream",
          "name": "stdout",
          "text": [
            "John\n",
            "Engineering\n",
            "{'emp1': {'name': 'John', 'age': 30, 'department': 'HR'}, 'emp2': {'name': 'Alice', 'age': 28, 'department': 'Engineering'}, 'emp3': {'name': 'Bob', 'age': 36, 'department': 'Marketing'}, 'emp4': {'name': 'Sarah', 'age': 25, 'department': 'Sales'}}\n"
          ]
        }
      ]
    },
    {
      "cell_type": "markdown",
      "source": [
        "17.  Describe the time complexity of accessing elements in a dictionary?\n",
        "   - The time complexity of accessing an element in a dictionary is generally O(1) on average, which means constant time. This holds true for most cases because dictionaries use hashing to quickly locate the position of a key.\n",
        "\n",
        "   - Hashing: When you access a dictionary element using a key (e.g., my_dict[key]), Python computes a hash value of the key. The hash value is used to determine the index in the underlying hash table where the corresponding value is stored. Since this is a direct lookup, it takes constant time, O(1), on average.\n",
        "\n",
        "   - Efficient Lookup: The dictionary performs a constant-time lookup by using the hash value to access the value associated with the key. If the hash value of the key leads directly to the location in the table, the operation is completed in O(1) time.\n",
        "\n",
        "18. In what situations are lists preferred over dictionaries?\n",
        "   - In Python, both lists and dictionaries are versatile data structures, but they are suited for different tasks based on their properties. While dictionaries are optimized for key-value pair lookups and lists are optimized for ordered collections of elements, there are certain situations - where lists are preferred over dictionaries.\n",
        "   Lists are ordered collections, meaning that the order of elements is preserved, and you can access elements by their index (e.g., my_list[0]).If the order of elements matters or you need to maintain a specific sequence of items, lists are the appropriate choice.\n",
        "   - Lists allow you to store duplicate values. If you need to store the same value multiple times, you can't do that with a dictionary because dictionary keys must be unique.For example, if you're tracking the number of occurrences of certain items (e.g., votes, survey responses), a list is better suited.\n",
        "\n",
        "19. Why are dictionaries considered unordered, and how does that affect data retrieval?\n",
        "   - In Python, dictionaries are considered unordered because the order of elements (the key-value pairs) is not guaranteed to be consistent. This is a result of the way dictionaries are implemented internally using hash tables.\n",
        "\n",
        "   - Python dictionaries are built using hash tables, where keys are hashed into an integer value and used to find a unique location (bucket) in memory where the corresponding value is stored.The hash function determines where the key-value pair is stored, and it is optimized for fast access to values based on their keys, rather than maintaining the insertion order.  \n",
        "\n",
        "   - Because of the nature of hash tables, the keys in a dictionary are not stored in the order they were inserted. Instead, their positions are determined by the hash values.The order of keys may appear to be consistent in some cases, but this is not a reliable property, and it can change depending on the Python version, system architecture, or even the internal implementation of the dictionary.\n",
        "\n",
        "20. Explain the difference between a list and a dictionary in terms of data retrieval.\n",
        "   - List: A list is an ordered collection of items, where each item has an index starting from 0. The elements in a list are stored in a sequence, and data retrieval is done using the index of the element.Data is retrieved using the index of the element, which is an integer value representing the position of the element in the list.\n",
        "\n",
        "   - Dictionary: A dictionary is an unordered collection of key-value pairs, where each value is associated with a unique key. Data retrieval is done using the key, not an index.Data is retrieved using the key. The key is unique and can be any immutable data type (such as strings, numbers, or tuples). You access values in a dictionary using the corresponding key (my_dict[key]).   \n"
      ],
      "metadata": {
        "id": "mT4ukAk9185m"
      }
    },
    {
      "cell_type": "markdown",
      "source": [
        "1. Write a code to create a string with your name and print it?"
      ],
      "metadata": {
        "id": "dWbDbNJ83LNp"
      }
    },
    {
      "cell_type": "code",
      "source": [
        "# Create a string with my name\n",
        "name = \"DEEPIKA\"\n",
        "\n",
        "# Print the string\n",
        "print(name)\n"
      ],
      "metadata": {
        "colab": {
          "base_uri": "https://localhost:8080/"
        },
        "id": "dzqfmlhB3Psr",
        "outputId": "310a08c6-3262-47d0-80a2-5b5146e84c63"
      },
      "execution_count": 2,
      "outputs": [
        {
          "output_type": "stream",
          "name": "stdout",
          "text": [
            "DEEPIKA\n"
          ]
        }
      ]
    },
    {
      "cell_type": "markdown",
      "source": [
        "2. Write a code to find the length of the string \"Hello World\"?\n"
      ],
      "metadata": {
        "id": "Uw6tA08q3XdS"
      }
    },
    {
      "cell_type": "code",
      "source": [
        "# Define the string\n",
        "string = \"Hello World\"\n",
        "\n",
        "# Find the length of the string\n",
        "length = len(string)\n",
        "\n",
        "# Print the length\n",
        "print(length)\n"
      ],
      "metadata": {
        "colab": {
          "base_uri": "https://localhost:8080/"
        },
        "id": "mYBFdZa83cAi",
        "outputId": "6447307a-1bbf-402c-c6c0-f31dae1eb871"
      },
      "execution_count": 3,
      "outputs": [
        {
          "output_type": "stream",
          "name": "stdout",
          "text": [
            "11\n"
          ]
        }
      ]
    },
    {
      "cell_type": "markdown",
      "source": [
        "3. P Write a code to slice the first 3 characters from the string \"Python Programming\"?"
      ],
      "metadata": {
        "id": "2zOj4CDD3fjm"
      }
    },
    {
      "cell_type": "code",
      "source": [
        "# Define the string\n",
        "string = \"Python Programming\"\n",
        "\n",
        "# Slice the first 3 characters\n",
        "sliced_string = string[:3]\n",
        "\n",
        "# Print the sliced string\n",
        "print(sliced_string)\n"
      ],
      "metadata": {
        "colab": {
          "base_uri": "https://localhost:8080/"
        },
        "id": "dreo2yym3krh",
        "outputId": "dbfeee1f-d5f2-4528-83a5-9eb616b732ab"
      },
      "execution_count": 4,
      "outputs": [
        {
          "output_type": "stream",
          "name": "stdout",
          "text": [
            "Pyt\n"
          ]
        }
      ]
    },
    {
      "cell_type": "markdown",
      "source": [
        "4. Write a code to convert the string \"hello\" to uppercase?\n"
      ],
      "metadata": {
        "id": "L7mNLvRD3n4h"
      }
    },
    {
      "cell_type": "code",
      "source": [
        "# Define the string\n",
        "string = \"hello\"\n",
        "\n",
        "# Convert the string to uppercase\n",
        "uppercase_string = string.upper()\n",
        "\n",
        "# Print the uppercase string\n",
        "print(uppercase_string)\n"
      ],
      "metadata": {
        "colab": {
          "base_uri": "https://localhost:8080/"
        },
        "id": "owQhVSEw3ttv",
        "outputId": "e242afd2-3663-4b9b-ab36-360cc3d47ce2"
      },
      "execution_count": 5,
      "outputs": [
        {
          "output_type": "stream",
          "name": "stdout",
          "text": [
            "HELLO\n"
          ]
        }
      ]
    },
    {
      "cell_type": "markdown",
      "source": [
        "5. Write a code to replace the word \"apple\" with \"orange\" in the string \"I like apple\"?"
      ],
      "metadata": {
        "id": "RmsNhVMm3wsB"
      }
    },
    {
      "cell_type": "code",
      "source": [
        "# Define the string\n",
        "string = \"I like apple\"\n",
        "\n",
        "# Replace \"apple\" with \"orange\"\n",
        "modified_string = string.replace(\"apple\", \"orange\")\n",
        "\n",
        "# Print the modified string\n",
        "print(modified_string)\n"
      ],
      "metadata": {
        "colab": {
          "base_uri": "https://localhost:8080/"
        },
        "id": "_vgI9f5Z31kR",
        "outputId": "883af6ee-ed0f-42f5-b0ae-d77a41daf197"
      },
      "execution_count": 6,
      "outputs": [
        {
          "output_type": "stream",
          "name": "stdout",
          "text": [
            "I like orange\n"
          ]
        }
      ]
    },
    {
      "cell_type": "markdown",
      "source": [
        "6. Write a code to create a list with numbers 1 to 5 and print it?"
      ],
      "metadata": {
        "id": "GS3XNTz534tF"
      }
    },
    {
      "cell_type": "code",
      "source": [
        "# Create a list with numbers from 1 to 5\n",
        "numbers = [1, 2, 3, 4, 5]\n",
        "\n",
        "# Print the list\n",
        "print(numbers)\n"
      ],
      "metadata": {
        "colab": {
          "base_uri": "https://localhost:8080/"
        },
        "id": "DHgyC0iO39My",
        "outputId": "29c8d603-6c47-425d-aa34-68105a77d07b"
      },
      "execution_count": 7,
      "outputs": [
        {
          "output_type": "stream",
          "name": "stdout",
          "text": [
            "[1, 2, 3, 4, 5]\n"
          ]
        }
      ]
    },
    {
      "cell_type": "markdown",
      "source": [
        "7. Write a code to append the number 10 to the list [1, 2, 3, 4]?"
      ],
      "metadata": {
        "id": "qJ1DCj6k4AFO"
      }
    },
    {
      "cell_type": "code",
      "source": [
        "# Define the list\n",
        "numbers = [1, 2, 3, 4]\n",
        "\n",
        "# Append the number 10 to the list\n",
        "numbers.append(10)\n",
        "\n",
        "# Print the updated list\n",
        "print(numbers)\n"
      ],
      "metadata": {
        "colab": {
          "base_uri": "https://localhost:8080/"
        },
        "id": "M66EdjVZ4Fj7",
        "outputId": "f9315651-01f4-4283-9cbf-fb8ef97d0a04"
      },
      "execution_count": 8,
      "outputs": [
        {
          "output_type": "stream",
          "name": "stdout",
          "text": [
            "[1, 2, 3, 4, 10]\n"
          ]
        }
      ]
    },
    {
      "cell_type": "markdown",
      "source": [
        "8. Write a code to remove the number 3 from the list [1, 2, 3, 4, 5]?"
      ],
      "metadata": {
        "id": "gjPDKUg84IB8"
      }
    },
    {
      "cell_type": "code",
      "source": [
        "# Define the list\n",
        "numbers = [1, 2, 3, 4, 5]\n",
        "\n",
        "# Remove the number 3 from the list\n",
        "numbers.remove(3)\n",
        "\n",
        "# Print the updated list\n",
        "print(numbers)\n"
      ],
      "metadata": {
        "colab": {
          "base_uri": "https://localhost:8080/"
        },
        "id": "cT1Kq2IU4M_-",
        "outputId": "bd4049f6-23d6-4bed-fc99-cd8960693f97"
      },
      "execution_count": 9,
      "outputs": [
        {
          "output_type": "stream",
          "name": "stdout",
          "text": [
            "[1, 2, 4, 5]\n"
          ]
        }
      ]
    },
    {
      "cell_type": "markdown",
      "source": [
        "9. Write a code to access the second element in the list ['a', 'b', 'c', 'd']?"
      ],
      "metadata": {
        "id": "JhFxS2IS4PoS"
      }
    },
    {
      "cell_type": "code",
      "source": [
        "# Define the list\n",
        "my_list = ['a', 'b', 'c', 'd']\n",
        "\n",
        "# Access the second element (index 1)\n",
        "second_element = my_list[1]\n",
        "\n",
        "# Print the second element\n",
        "print(second_element)\n"
      ],
      "metadata": {
        "colab": {
          "base_uri": "https://localhost:8080/"
        },
        "id": "ieOYALso4VMj",
        "outputId": "6cb43a7e-1a5a-484e-e2d1-3a8a0a9a3764"
      },
      "execution_count": 10,
      "outputs": [
        {
          "output_type": "stream",
          "name": "stdout",
          "text": [
            "b\n"
          ]
        }
      ]
    },
    {
      "cell_type": "markdown",
      "source": [
        "10. Write a code to reverse the list [10, 20, 30, 40, 50]."
      ],
      "metadata": {
        "id": "QOvh_yDP4XuZ"
      }
    },
    {
      "cell_type": "code",
      "source": [
        "# Define the list\n",
        "numbers = [10, 20, 30, 40, 50]\n",
        "\n",
        "# Reverse the list\n",
        "reversed_list = numbers[::-1]\n",
        "\n",
        "# Print the reversed list\n",
        "print(reversed_list)\n"
      ],
      "metadata": {
        "colab": {
          "base_uri": "https://localhost:8080/"
        },
        "id": "xH2CvMHT4c16",
        "outputId": "96ff4ceb-8c0a-448f-aeaa-b8743cb7dca7"
      },
      "execution_count": 11,
      "outputs": [
        {
          "output_type": "stream",
          "name": "stdout",
          "text": [
            "[50, 40, 30, 20, 10]\n"
          ]
        }
      ]
    },
    {
      "cell_type": "markdown",
      "source": [
        "11.  Write a code to create a tuple with the elements 100, 200, 300 and print it."
      ],
      "metadata": {
        "id": "M8ky5UmJ4hoj"
      }
    },
    {
      "cell_type": "code",
      "source": [
        "# Create a tuple with the elements 100, 200, 300\n",
        "my_tuple = (100, 200, 300)\n",
        "\n",
        "# Print the tuple\n",
        "print(my_tuple)\n"
      ],
      "metadata": {
        "colab": {
          "base_uri": "https://localhost:8080/"
        },
        "id": "l-hMgAfQ4mkq",
        "outputId": "2e1d6d10-a000-4485-bde4-91ae55540cc5"
      },
      "execution_count": 12,
      "outputs": [
        {
          "output_type": "stream",
          "name": "stdout",
          "text": [
            "(100, 200, 300)\n"
          ]
        }
      ]
    },
    {
      "cell_type": "markdown",
      "source": [
        "12. Write a code to access the second-to-last element of the tuple ('red', 'green', 'blue', 'yellow')."
      ],
      "metadata": {
        "id": "awR81G7u4pMS"
      }
    },
    {
      "cell_type": "code",
      "source": [
        "# Define the tuple\n",
        "my_tuple = ('red', 'green', 'blue', 'yellow')\n",
        "\n",
        "# Access the second-to-last element using negative indexing\n",
        "second_to_last = my_tuple[-2]\n",
        "\n",
        "# Print the second-to-last element\n",
        "print(second_to_last)\n"
      ],
      "metadata": {
        "colab": {
          "base_uri": "https://localhost:8080/"
        },
        "id": "67IGvw5G4t1d",
        "outputId": "42362f92-0ace-496e-ef8e-bf14f8bd98f2"
      },
      "execution_count": 13,
      "outputs": [
        {
          "output_type": "stream",
          "name": "stdout",
          "text": [
            "blue\n"
          ]
        }
      ]
    },
    {
      "cell_type": "markdown",
      "source": [
        "13. Write a code to find the minimum number in the tuple (10, 20, 5, 15)."
      ],
      "metadata": {
        "id": "dOfbzRhT4yd9"
      }
    },
    {
      "cell_type": "code",
      "source": [
        "# Define the tuple\n",
        "my_tuple = (10, 20, 5, 15)\n",
        "\n",
        "# Find the minimum number in the tuple\n",
        "min_number = min(my_tuple)\n",
        "\n",
        "# Print the minimum number\n",
        "print(min_number)\n"
      ],
      "metadata": {
        "colab": {
          "base_uri": "https://localhost:8080/"
        },
        "id": "fQsNmMO741Ex",
        "outputId": "16f00edd-2ad9-4fd9-eac2-73a59e667fa8"
      },
      "execution_count": 14,
      "outputs": [
        {
          "output_type": "stream",
          "name": "stdout",
          "text": [
            "5\n"
          ]
        }
      ]
    },
    {
      "cell_type": "markdown",
      "source": [
        "14. . Write a code to find the index of the element \"cat\" in the tuple ('dog', 'cat', 'rabbit')."
      ],
      "metadata": {
        "id": "2H9K0ufw43N2"
      }
    },
    {
      "cell_type": "code",
      "source": [
        "# Define the tuple\n",
        "my_tuple = ('dog', 'cat', 'rabbit')\n",
        "\n",
        "# Find the index of the element \"cat\"\n",
        "index_of_cat = my_tuple.index('cat')\n",
        "\n",
        "# Print the index\n",
        "print(index_of_cat)\n"
      ],
      "metadata": {
        "colab": {
          "base_uri": "https://localhost:8080/"
        },
        "id": "2Mnit2TM48G1",
        "outputId": "5b18e407-39ee-4bcd-9e32-c7acc2e1ec1d"
      },
      "execution_count": 15,
      "outputs": [
        {
          "output_type": "stream",
          "name": "stdout",
          "text": [
            "1\n"
          ]
        }
      ]
    },
    {
      "cell_type": "markdown",
      "source": [
        "15. . Write a code to create a tuple containing three different fruits and check if \"kiwi\" is in it."
      ],
      "metadata": {
        "id": "vhjcjf_G5BUy"
      }
    },
    {
      "cell_type": "code",
      "source": [
        "# Create a tuple with three different fruits\n",
        "fruits = ('apple', 'banana', 'cherry')\n",
        "\n",
        "# Check if \"kiwi\" is in the tuple\n",
        "is_kiwi_in_tuple = 'kiwi' in fruits\n",
        "\n",
        "# Print the result\n",
        "print(is_kiwi_in_tuple)\n"
      ],
      "metadata": {
        "colab": {
          "base_uri": "https://localhost:8080/"
        },
        "id": "teEY_V0B5CID",
        "outputId": "3c8284b8-b59a-479e-c9b7-425ffe19662a"
      },
      "execution_count": 16,
      "outputs": [
        {
          "output_type": "stream",
          "name": "stdout",
          "text": [
            "False\n"
          ]
        }
      ]
    },
    {
      "cell_type": "markdown",
      "source": [
        "16.  Write a code to create a set with the elements 'a', 'b', 'c' and print it."
      ],
      "metadata": {
        "id": "qhRHbevW5G51"
      }
    },
    {
      "cell_type": "code",
      "source": [
        "# Create a set with the elements 'a', 'b', 'c'\n",
        "my_set = {'a', 'b', 'c'}\n",
        "\n",
        "# Print the set\n",
        "print(my_set)\n"
      ],
      "metadata": {
        "colab": {
          "base_uri": "https://localhost:8080/"
        },
        "id": "uWKEMGYH5Ldw",
        "outputId": "90ea5e74-a54a-4cf2-ecf9-88695ef0a648"
      },
      "execution_count": 17,
      "outputs": [
        {
          "output_type": "stream",
          "name": "stdout",
          "text": [
            "{'c', 'b', 'a'}\n"
          ]
        }
      ]
    },
    {
      "cell_type": "markdown",
      "source": [
        "17. Write a code to clear all elements from the set {1, 2, 3, 4, 5}."
      ],
      "metadata": {
        "id": "eebCewux5N7C"
      }
    },
    {
      "cell_type": "code",
      "source": [
        "# Define the set\n",
        "my_set = {1, 2, 3, 4, 5}\n",
        "\n",
        "# Clear all elements from the set\n",
        "my_set.clear()\n",
        "\n",
        "# Print the empty set\n",
        "print(my_set)\n"
      ],
      "metadata": {
        "colab": {
          "base_uri": "https://localhost:8080/"
        },
        "id": "ARwLZNbS5Zze",
        "outputId": "c2b7a042-c9df-432b-be02-5fa5d879ba2a"
      },
      "execution_count": 18,
      "outputs": [
        {
          "output_type": "stream",
          "name": "stdout",
          "text": [
            "set()\n"
          ]
        }
      ]
    },
    {
      "cell_type": "markdown",
      "source": [
        "18.  Write a code to remove the element 4 from the set {1, 2, 3, 4}."
      ],
      "metadata": {
        "id": "gdxYsRKt5dwR"
      }
    },
    {
      "cell_type": "code",
      "source": [
        "# Define the set\n",
        "my_set = {1, 2, 3, 4}\n",
        "\n",
        "# Remove the element 4 from the set\n",
        "my_set.remove(4)\n",
        "\n",
        "# Print the updated set\n",
        "print(my_set)\n"
      ],
      "metadata": {
        "colab": {
          "base_uri": "https://localhost:8080/"
        },
        "id": "HVM8a35C5h6g",
        "outputId": "13a808bb-ddba-4533-f4a8-b7c0888602ce"
      },
      "execution_count": 19,
      "outputs": [
        {
          "output_type": "stream",
          "name": "stdout",
          "text": [
            "{1, 2, 3}\n"
          ]
        }
      ]
    },
    {
      "cell_type": "markdown",
      "source": [
        "19. Write a code to find the union of two sets {1, 2, 3} and {3, 4, 5}."
      ],
      "metadata": {
        "id": "UtdfR4j95kJ_"
      }
    },
    {
      "cell_type": "code",
      "source": [
        "# Define the sets\n",
        "set1 = {1, 2, 3}\n",
        "set2 = {3, 4, 5}\n",
        "\n",
        "# Find the union of the two sets\n",
        "union_set = set1 | set2  # You can also use set1.union(set2)\n",
        "\n",
        "# Print the union of the sets\n",
        "print(union_set)\n"
      ],
      "metadata": {
        "colab": {
          "base_uri": "https://localhost:8080/"
        },
        "id": "hrxAKapj5odS",
        "outputId": "16b25228-2bba-4a8f-869c-757a0620ebeb"
      },
      "execution_count": 20,
      "outputs": [
        {
          "output_type": "stream",
          "name": "stdout",
          "text": [
            "{1, 2, 3, 4, 5}\n"
          ]
        }
      ]
    },
    {
      "cell_type": "markdown",
      "source": [
        "20.  Write a code to find the intersection of two sets {1, 2, 3} and {2, 3, 4}."
      ],
      "metadata": {
        "id": "zGVUJmHf5qpJ"
      }
    },
    {
      "cell_type": "code",
      "source": [
        "# Define the sets\n",
        "set1 = {1, 2, 3}\n",
        "set2 = {2, 3, 4}\n",
        "\n",
        "# Find the intersection of the two sets\n",
        "intersection_set = set1 & set2  # You can also use set1.intersection(set2)\n",
        "\n",
        "# Print the intersection of the sets\n",
        "print(intersection_set)\n"
      ],
      "metadata": {
        "colab": {
          "base_uri": "https://localhost:8080/"
        },
        "id": "skmOkGbY5vl6",
        "outputId": "574b3915-3798-478d-dff3-e829189e659d"
      },
      "execution_count": 21,
      "outputs": [
        {
          "output_type": "stream",
          "name": "stdout",
          "text": [
            "{2, 3}\n"
          ]
        }
      ]
    },
    {
      "cell_type": "markdown",
      "source": [
        "21.  Write a code to create a dictionary with the keys \"name\", \"age\", and \"city\", and print it"
      ],
      "metadata": {
        "id": "iALktLES501q"
      }
    },
    {
      "cell_type": "code",
      "source": [
        "# Create the dictionary\n",
        "my_dict = {\n",
        "    \"name\": \"John\",\n",
        "    \"age\": 30,\n",
        "    \"city\": \"New York\"\n",
        "}\n",
        "\n",
        "# Print the dictionary\n",
        "print(my_dict)\n"
      ],
      "metadata": {
        "colab": {
          "base_uri": "https://localhost:8080/"
        },
        "id": "RPOfnqsB54N1",
        "outputId": "e0f1ca0e-1870-4144-8df8-2e3f485ffcb2"
      },
      "execution_count": 22,
      "outputs": [
        {
          "output_type": "stream",
          "name": "stdout",
          "text": [
            "{'name': 'John', 'age': 30, 'city': 'New York'}\n"
          ]
        }
      ]
    },
    {
      "cell_type": "markdown",
      "source": [
        "22.  Write a code to add a new key-value pair \"country\": \"USA\" to the dictionary {'name': 'John', 'age': 25}."
      ],
      "metadata": {
        "id": "3fgTPR7K57kJ"
      }
    },
    {
      "cell_type": "code",
      "source": [
        "# Define the dictionary\n",
        "my_dict = {'name': 'John', 'age': 25}\n",
        "\n",
        "# Add the new key-value pair \"country\": \"USA\"\n",
        "my_dict[\"country\"] = \"USA\"\n",
        "\n",
        "# Print the updated dictionary\n",
        "print(my_dict)\n"
      ],
      "metadata": {
        "colab": {
          "base_uri": "https://localhost:8080/"
        },
        "id": "JY-kXsFq5_yF",
        "outputId": "aaae210c-bb42-48f8-afd1-cfaa42f7479c"
      },
      "execution_count": 23,
      "outputs": [
        {
          "output_type": "stream",
          "name": "stdout",
          "text": [
            "{'name': 'John', 'age': 25, 'country': 'USA'}\n"
          ]
        }
      ]
    },
    {
      "cell_type": "markdown",
      "source": [
        "23.  Write a code to access the value associated with the key \"name\" in the dictionary {'name': 'Alice', 'age': 30}\n"
      ],
      "metadata": {
        "id": "tVPRqrZc6Dyt"
      }
    },
    {
      "cell_type": "code",
      "source": [
        "# Define the dictionary\n",
        "my_dict = {'name': 'Alice', 'age': 30}\n",
        "\n",
        "# Access the value associated with the key \"name\"\n",
        "name_value = my_dict[\"name\"]\n",
        "\n",
        "# Print the value\n",
        "print(name_value)\n"
      ],
      "metadata": {
        "colab": {
          "base_uri": "https://localhost:8080/"
        },
        "id": "aKZzq-CJ6Hck",
        "outputId": "f480d401-3f7c-4c90-86cb-6cb985aef745"
      },
      "execution_count": 24,
      "outputs": [
        {
          "output_type": "stream",
          "name": "stdout",
          "text": [
            "Alice\n"
          ]
        }
      ]
    },
    {
      "cell_type": "markdown",
      "source": [
        "24. 4. Write a code to remove the key \"age\" from the dictionary {'name': 'Bob', 'age': 22, 'city': 'New York'}."
      ],
      "metadata": {
        "id": "oKuLYJ5A6L0B"
      }
    },
    {
      "cell_type": "code",
      "source": [
        "# Define the dictionary\n",
        "my_dict = {'name': 'Bob', 'age': 22, 'city': 'New York'}\n",
        "\n",
        "# Remove the key \"age\" from the dictionary\n",
        "del my_dict[\"age\"]\n",
        "\n",
        "# Print the updated dictionary\n",
        "print(my_dict)\n"
      ],
      "metadata": {
        "colab": {
          "base_uri": "https://localhost:8080/"
        },
        "id": "-550ZNr_6PWv",
        "outputId": "1c608b13-d291-47b6-cc76-6e945b9f5ba6"
      },
      "execution_count": 25,
      "outputs": [
        {
          "output_type": "stream",
          "name": "stdout",
          "text": [
            "{'name': 'Bob', 'city': 'New York'}\n"
          ]
        }
      ]
    },
    {
      "cell_type": "markdown",
      "source": [
        "25. Write a code to check if the key \"city\" exists in the dictionary {'name': 'Alice', 'city': 'Paris'}."
      ],
      "metadata": {
        "id": "WAFBkGL46Toz"
      }
    },
    {
      "cell_type": "code",
      "source": [
        "# Define the dictionary\n",
        "my_dict = {'name': 'Alice', 'city': 'Paris'}\n",
        "\n",
        "# Check if the key \"city\" exists in the dictionary\n",
        "if \"city\" in my_dict:\n",
        "    print(\"The key 'city' exists in the dictionary.\")\n",
        "else:\n",
        "    print(\"The key 'city' does not exist in the dictionary.\")\n"
      ],
      "metadata": {
        "colab": {
          "base_uri": "https://localhost:8080/"
        },
        "id": "8snPGVHr6aZ9",
        "outputId": "216a0468-6286-4a41-c8c7-3b0ae17a329f"
      },
      "execution_count": 26,
      "outputs": [
        {
          "output_type": "stream",
          "name": "stdout",
          "text": [
            "The key 'city' exists in the dictionary.\n"
          ]
        }
      ]
    },
    {
      "cell_type": "markdown",
      "source": [
        "26. Write a code to create a list, a tuple, and a dictionary, and print them all."
      ],
      "metadata": {
        "id": "DB7YN4HP6biU"
      }
    },
    {
      "cell_type": "code",
      "source": [
        "# Create a list\n",
        "my_list = [1, 2, 3, 4, 5]\n",
        "\n",
        "# Create a tuple\n",
        "my_tuple = ('apple', 'banana', 'cherry')\n",
        "\n",
        "# Create a dictionary\n",
        "my_dict = {'name': 'Alice', 'age': 25, 'city': 'New York'}\n",
        "\n",
        "# Print the list, tuple, and dictionary\n",
        "print(\"List:\", my_list)\n",
        "print(\"Tuple:\", my_tuple)\n",
        "print(\"Dictionary:\", my_dict)\n"
      ],
      "metadata": {
        "colab": {
          "base_uri": "https://localhost:8080/"
        },
        "id": "-uFZ6pqT6eOZ",
        "outputId": "bb5b0281-1e5b-4feb-8f22-ff523e8d7651"
      },
      "execution_count": 27,
      "outputs": [
        {
          "output_type": "stream",
          "name": "stdout",
          "text": [
            "List: [1, 2, 3, 4, 5]\n",
            "Tuple: ('apple', 'banana', 'cherry')\n",
            "Dictionary: {'name': 'Alice', 'age': 25, 'city': 'New York'}\n"
          ]
        }
      ]
    },
    {
      "cell_type": "markdown",
      "source": [
        "27. Write a code to create a list of 5 random numbers between 1 and 100, sort it in ascending order, and print the\n",
        "result.(replaced)"
      ],
      "metadata": {
        "id": "m4747Qff6iMW"
      }
    },
    {
      "cell_type": "code",
      "source": [
        "import random\n",
        "\n",
        "# Create a list of 5 random numbers between 1 and 100\n",
        "random_numbers = [random.randint(1, 100) for _ in range(5)]\n",
        "\n",
        "# Sort the list in ascending order\n",
        "random_numbers.sort()\n",
        "\n",
        "# Print the sorted list\n",
        "print(\"Sorted List:\", random_numbers)\n"
      ],
      "metadata": {
        "colab": {
          "base_uri": "https://localhost:8080/"
        },
        "id": "gD5WmuBV6m7g",
        "outputId": "a6db3480-a70b-44ed-9b08-c6a04196b82e"
      },
      "execution_count": 28,
      "outputs": [
        {
          "output_type": "stream",
          "name": "stdout",
          "text": [
            "Sorted List: [2, 31, 51, 91, 98]\n"
          ]
        }
      ]
    },
    {
      "cell_type": "markdown",
      "source": [
        "28.  Write a code to create a list with strings and print the element at the third index."
      ],
      "metadata": {
        "id": "v3Fry8UJ6pZz"
      }
    },
    {
      "cell_type": "code",
      "source": [
        "# Create a list with strings\n",
        "my_list = [\"apple\", \"banana\", \"cherry\", \"date\", \"elderberry\"]\n",
        "\n",
        "# Print the element at the third index\n",
        "print(my_list[3])\n"
      ],
      "metadata": {
        "colab": {
          "base_uri": "https://localhost:8080/"
        },
        "id": "nZOE4jf26t5x",
        "outputId": "7c7b902b-2baf-4dfe-c78c-bd5cf17524ea"
      },
      "execution_count": 29,
      "outputs": [
        {
          "output_type": "stream",
          "name": "stdout",
          "text": [
            "date\n"
          ]
        }
      ]
    },
    {
      "cell_type": "markdown",
      "source": [
        "29. Write a code to combine two dictionaries into one and print the result."
      ],
      "metadata": {
        "id": "uV1InrZD6wfu"
      }
    },
    {
      "cell_type": "code",
      "source": [
        "# Define two dictionaries\n",
        "dict1 = {'name': 'Alice', 'age': 25}\n",
        "dict2 = {'city': 'New York', 'country': 'USA'}\n",
        "\n",
        "# Combine the two dictionaries\n",
        "combined_dict = {**dict1, **dict2}\n",
        "\n",
        "# Print the combined dictionary\n",
        "print(combined_dict)\n"
      ],
      "metadata": {
        "colab": {
          "base_uri": "https://localhost:8080/"
        },
        "id": "oKj8hCfl61-s",
        "outputId": "cd55d6cd-b7a5-4dc0-9c47-66dee44ac5d3"
      },
      "execution_count": 30,
      "outputs": [
        {
          "output_type": "stream",
          "name": "stdout",
          "text": [
            "{'name': 'Alice', 'age': 25, 'city': 'New York', 'country': 'USA'}\n"
          ]
        }
      ]
    },
    {
      "cell_type": "markdown",
      "source": [
        "30. Write a code to convert a list of strings into a set."
      ],
      "metadata": {
        "id": "xSSn-QnG64UA"
      }
    },
    {
      "cell_type": "code",
      "source": [
        "# Define a list of strings\n",
        "my_list = [\"apple\", \"banana\", \"cherry\", \"apple\", \"date\"]\n",
        "\n",
        "# Convert the list into a set\n",
        "my_set = set(my_list)\n",
        "\n",
        "# Print the set\n",
        "print(my_set)\n"
      ],
      "metadata": {
        "colab": {
          "base_uri": "https://localhost:8080/"
        },
        "id": "sUuzb5M068ee",
        "outputId": "96e5c2c9-897f-4994-8767-c6abf9a22176"
      },
      "execution_count": 31,
      "outputs": [
        {
          "output_type": "stream",
          "name": "stdout",
          "text": [
            "{'cherry', 'apple', 'banana', 'date'}\n"
          ]
        }
      ]
    }
  ]
}